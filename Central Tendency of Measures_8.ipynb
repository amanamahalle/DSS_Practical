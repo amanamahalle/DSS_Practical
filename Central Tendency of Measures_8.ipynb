{
 "cells": [
  {
   "cell_type": "markdown",
   "id": "4c84879e-fb17-4d98-9eae-0cb0e84f9352",
   "metadata": {},
   "source": [
    "# Central Tendency of Measures"
   ]
  },
  {
   "cell_type": "code",
   "execution_count": 2,
   "id": "c2a0bf1e-7670-4a3b-81c1-c93ad9cb166d",
   "metadata": {},
   "outputs": [],
   "source": [
    "#Name: Aman H. Mahalle \n",
    "#Roll No.:73\n",
    "#Sec: C\n",
    "#Subject:ET - 1"
   ]
  },
  {
   "cell_type": "code",
   "execution_count": 1,
   "id": "76c5d3e6-e7da-408e-a945-278688a01d94",
   "metadata": {},
   "outputs": [],
   "source": [
    "import pandas as pd"
   ]
  },
  {
   "cell_type": "code",
   "execution_count": 2,
   "id": "32d5aecd-9ee5-4192-8d52-2c70c13f511d",
   "metadata": {},
   "outputs": [],
   "source": [
    "import os"
   ]
  },
  {
   "cell_type": "code",
   "execution_count": 3,
   "id": "6496615e-6d68-4f24-aa58-40be642a05df",
   "metadata": {},
   "outputs": [
    {
     "data": {
      "text/plain": [
       "'C:\\\\Users\\\\bhaus\\\\Downloads'"
      ]
     },
     "execution_count": 3,
     "metadata": {},
     "output_type": "execute_result"
    }
   ],
   "source": [
    "os.getcwd()"
   ]
  },
  {
   "cell_type": "code",
   "execution_count": 12,
   "id": "cad4b499-953c-4e3c-9b27-723918b6d127",
   "metadata": {},
   "outputs": [],
   "source": [
    "os.chdir(\"C:\\\\Users\\\\bhaus\\\\OneDrive\\\\Desktop\")"
   ]
  },
  {
   "cell_type": "code",
   "execution_count": 14,
   "id": "645ab1f0-0534-45f6-8205-5ecd8c8f4fa0",
   "metadata": {},
   "outputs": [],
   "source": [
    "df=pd.read_csv(\"gender_submission.csv\")"
   ]
  },
  {
   "cell_type": "code",
   "execution_count": 22,
   "id": "9fc281a0-cbd3-482b-9a98-e9af678aad20",
   "metadata": {},
   "outputs": [
    {
     "name": "stdout",
     "output_type": "stream",
     "text": [
      "<class 'pandas.core.frame.DataFrame'>\n",
      "RangeIndex: 418 entries, 0 to 417\n",
      "Data columns (total 2 columns):\n",
      " #   Column       Non-Null Count  Dtype\n",
      "---  ------       --------------  -----\n",
      " 0   PassengerId  418 non-null    int64\n",
      " 1   Survived     418 non-null    int64\n",
      "dtypes: int64(2)\n",
      "memory usage: 6.7 KB\n",
      "None\n"
     ]
    }
   ],
   "source": [
    "print(df.info())"
   ]
  },
  {
   "cell_type": "code",
   "execution_count": 30,
   "id": "89a0e1ad-18c4-4537-9245-c03b0cd1ad95",
   "metadata": {},
   "outputs": [
    {
     "name": "stdout",
     "output_type": "stream",
     "text": [
      "Mean Passenger: 1100.5\n",
      "Mean survived: 0.36363636363636365\n"
     ]
    }
   ],
   "source": [
    "\n",
    "mean_PassengerId = df['PassengerId'].mean()\n",
    "mean_Survived = df['Survived'].mean()\n",
    "\n",
    "print(f\"Mean Passenger: {mean_PassengerId}\")\n",
    "print(f\"Mean survived: {mean_Survived}\")"
   ]
  },
  {
   "cell_type": "code",
   "execution_count": 26,
   "id": "56e4f21b-c510-4e90-a6d3-0f9bc0d28860",
   "metadata": {},
   "outputs": [
    {
     "name": "stdout",
     "output_type": "stream",
     "text": [
      "1100.5\n"
     ]
    }
   ],
   "source": [
    "print(mean)"
   ]
  },
  {
   "cell_type": "code",
   "execution_count": 28,
   "id": "9db656bf-21b3-4318-af11-90795b29f66a",
   "metadata": {},
   "outputs": [
    {
     "name": "stdout",
     "output_type": "stream",
     "text": [
      "Median Passenger: 1100.5\n",
      "Median survived: 0.0\n"
     ]
    }
   ],
   "source": [
    "\n",
    "median_PassengerId = df['PassengerId'].median()\n",
    "median_Survived = df['Survived'].median()\n",
    "\n",
    "print(f\"Median Passenger: {median_PassengerId}\")\n",
    "print(f\"Median survived: {median_Survived}\")\n"
   ]
  },
  {
   "cell_type": "code",
   "execution_count": 32,
   "id": "967a5bf4-dfb1-464c-9358-97ffd23e1ad3",
   "metadata": {},
   "outputs": [
    {
     "name": "stdout",
     "output_type": "stream",
     "text": [
      "Mode Passenger: 0       892\n",
      "1       893\n",
      "2       894\n",
      "3       895\n",
      "4       896\n",
      "       ... \n",
      "413    1305\n",
      "414    1306\n",
      "415    1307\n",
      "416    1308\n",
      "417    1309\n",
      "Name: PassengerId, Length: 418, dtype: int64\n",
      "Mode survived: 0    0\n",
      "Name: Survived, dtype: int64\n"
     ]
    }
   ],
   "source": [
    "mode_PassengerId = df['PassengerId'].mode()\n",
    "mode_Survived = df['Survived'].mode()\n",
    "\n",
    "print(f\"Mode Passenger: {mode_PassengerId}\")\n",
    "print(f\"Mode survived: {mode_Survived}\")"
   ]
  },
  {
   "cell_type": "code",
   "execution_count": null,
   "id": "e0d58be1-577e-4bd3-90de-cc1d5e9d68ae",
   "metadata": {},
   "outputs": [],
   "source": []
  }
 ],
 "metadata": {
  "kernelspec": {
   "display_name": "Python 3 (ipykernel)",
   "language": "python",
   "name": "python3"
  },
  "language_info": {
   "codemirror_mode": {
    "name": "ipython",
    "version": 3
   },
   "file_extension": ".py",
   "mimetype": "text/x-python",
   "name": "python",
   "nbconvert_exporter": "python",
   "pygments_lexer": "ipython3",
   "version": "3.12.4"
  }
 },
 "nbformat": 4,
 "nbformat_minor": 5
}
